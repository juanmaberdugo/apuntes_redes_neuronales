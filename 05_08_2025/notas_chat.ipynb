{
 "cells": [
  {
   "cell_type": "markdown",
   "id": "584b0a2b",
   "metadata": {},
   "source": [
    "# Gradient Descent\n"
   ]
  },
  {
   "cell_type": "markdown",
   "id": "8952f79b",
   "metadata": {},
   "source": [
    "Este representa lo que seria la pendiente en una funcion, nos sirve para aproximar el error de tal forma que sabemos si crece decrece."
   ]
  },
  {
   "cell_type": "code",
   "execution_count": 1,
   "id": "27a5b078",
   "metadata": {},
   "outputs": [
    {
     "name": "stdout",
     "output_type": "stream",
     "text": [
      "Paso 1: w = 0.6000, gradiente = -6.0000\n",
      "Paso 2: w = 1.0800, gradiente = -4.8000\n",
      "Paso 3: w = 1.4640, gradiente = -3.8400\n",
      "Paso 4: w = 1.7712, gradiente = -3.0720\n",
      "Paso 5: w = 2.0170, gradiente = -2.4576\n",
      "Paso 6: w = 2.2136, gradiente = -1.9661\n",
      "Paso 7: w = 2.3709, gradiente = -1.5729\n",
      "Paso 8: w = 2.4967, gradiente = -1.2583\n",
      "Paso 9: w = 2.5973, gradiente = -1.0066\n",
      "Paso 10: w = 2.6779, gradiente = -0.8053\n"
     ]
    }
   ],
   "source": [
    "# Valor inicial del peso\n",
    "w = 0.0\n",
    "\n",
    "# Tasa de aprendizaje\n",
    "eta = 0.1\n",
    "\n",
    "# Derivada de E con respecto a w\n",
    "def grad(w):\n",
    "    return 2 * (w - 3)\n",
    "\n",
    "# Actualizamos el peso una vez\n",
    "for i in range(10):\n",
    "    dw = grad(w)\n",
    "    w = w - eta * dw\n",
    "    print(f\"Paso {i+1}: w = {w:.4f}, gradiente = {dw:.4f}\")\n"
   ]
  },
  {
   "cell_type": "markdown",
   "id": "dd71a824",
   "metadata": {},
   "source": [
    "Como se ve aca el cuando el gradiente es negativo el peso aumenta"
   ]
  },
  {
   "cell_type": "markdown",
   "id": "0641e709",
   "metadata": {},
   "source": [
    "### Ejemplo:"
   ]
  },
  {
   "cell_type": "code",
   "execution_count": 2,
   "id": "4aeb9d96",
   "metadata": {},
   "outputs": [
    {
     "name": "stdout",
     "output_type": "stream",
     "text": [
      "Pesos antes de la actualización: [1. 2. 3.]\n",
      "Gradiente: [ 4. -2.  1.]\n",
      "Pesos después de la actualización: [0.6 2.2 2.9]\n"
     ]
    }
   ],
   "source": [
    "import numpy as np\n",
    "\n",
    "# Vector de pesos inicial\n",
    "w = np.array([1.0, 2.0, 3.0])\n",
    "\n",
    "# Gradiente de la función de error en w\n",
    "grad = np.array([4.0, -2.0, 1.0])\n",
    "\n",
    "# Tasa de aprendizaje\n",
    "eta = 0.1\n",
    "\n",
    "# Actualización de pesos\n",
    "w_new = w - eta * grad\n",
    "\n",
    "print(\"Pesos antes de la actualización:\", w)\n",
    "print(\"Gradiente:\", grad)\n",
    "print(\"Pesos después de la actualización:\", w_new)\n"
   ]
  }
 ],
 "metadata": {
  "kernelspec": {
   "display_name": "Python 3",
   "language": "python",
   "name": "python3"
  },
  "language_info": {
   "codemirror_mode": {
    "name": "ipython",
    "version": 3
   },
   "file_extension": ".py",
   "mimetype": "text/x-python",
   "name": "python",
   "nbconvert_exporter": "python",
   "pygments_lexer": "ipython3",
   "version": "3.11.9"
  }
 },
 "nbformat": 4,
 "nbformat_minor": 5
}
