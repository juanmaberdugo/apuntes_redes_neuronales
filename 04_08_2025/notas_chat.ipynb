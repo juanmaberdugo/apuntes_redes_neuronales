{
 "cells": [
  {
   "cell_type": "markdown",
   "id": "57f11e86",
   "metadata": {},
   "source": [
    "# Introduccion a las redes neuronales"
   ]
  },
  {
   "cell_type": "markdown",
   "id": "d732a978",
   "metadata": {},
   "source": [
    "### Que es una red neuronal"
   ]
  },
  {
   "cell_type": "markdown",
   "id": "4c3c18b8",
   "metadata": {},
   "source": [
    "Es un modelo que intenta simular como funciona el cerebro humano, esto lo intenta hacer usando neuronas artificiales, \"llamadas perceptrones\". Estos perceptrones trabajan en conjunto para reconocer patrones y tomar decisiones basadas en estos datos."
   ]
  },
  {
   "cell_type": "markdown",
   "id": "80fd4f13",
   "metadata": {},
   "source": [
    "## Aprendizaje supervisado"
   ]
  },
  {
   "cell_type": "markdown",
   "id": "f7382f52",
   "metadata": {},
   "source": [
    "Es cuando a un modelo le damos la caracteristica de que pueda aprender a relacionar entradas con salidas, usando ejemplos."
   ]
  },
  {
   "cell_type": "markdown",
   "id": "04ffcb16",
   "metadata": {},
   "source": [
    "### Ejercicio"
   ]
  },
  {
   "cell_type": "markdown",
   "id": "b364042c",
   "metadata": {},
   "source": [
    "Calcular el error entre los precios reales y los precios predecidos por el modelo."
   ]
  },
  {
   "cell_type": "code",
   "execution_count": 4,
   "id": "c7049388",
   "metadata": {},
   "outputs": [],
   "source": [
    "# Precios reales (en millones)\n",
    "y_real = [200, 150, 300, 100]\n",
    "\n",
    "# Predicciones del modelo\n",
    "y_pred = [210, 140, 290, 130]"
   ]
  },
  {
   "cell_type": "markdown",
   "id": "389da385",
   "metadata": {},
   "source": [
    "Paso 1: Error promedio absoluto\n"
   ]
  },
  {
   "cell_type": "code",
   "execution_count": 9,
   "id": "baa5e339",
   "metadata": {},
   "outputs": [
    {
     "name": "stdout",
     "output_type": "stream",
     "text": [
      "15.0\n"
     ]
    }
   ],
   "source": [
    "def error_promedio_absoluto(y_real, y_pred):\n",
    "    sum_prom = []\n",
    "\n",
    "    for real, pred in zip(y_real, y_pred):\n",
    "        sum_prom.append(abs(real - pred))\n",
    "\n",
    "    sum_prom_final = 0\n",
    "    for i in sum_prom:\n",
    "        sum_prom_final += i\n",
    "\n",
    "    sum_prom_final = sum_prom_final / len(y_real)\n",
    "\n",
    "    return sum_prom_final\n",
    "\n",
    "hola = error_promedio_absoluto(y_real, y_pred)\n",
    "print(hola)\n"
   ]
  },
  {
   "cell_type": "markdown",
   "id": "d09d4bee",
   "metadata": {},
   "source": [
    "Paso 2: Calcular erro cuadratico medio\n",
    " "
   ]
  },
  {
   "cell_type": "code",
   "execution_count": 15,
   "id": "5c4c41ba",
   "metadata": {},
   "outputs": [
    {
     "name": "stdout",
     "output_type": "stream",
     "text": [
      "300.0\n"
     ]
    }
   ],
   "source": [
    "def error_cuadratico_medio(y_real, y_pred):\n",
    "    sum_prom = []\n",
    "\n",
    "    for real, pred in zip(y_real, y_pred):\n",
    "        valor = (real - pred)**2\n",
    "        sum_prom.append(valor)\n",
    "\n",
    "    sum_prom_final = 0\n",
    "    for i in sum_prom:\n",
    "        sum_prom_final += i\n",
    "\n",
    "    sum_prom_final = sum_prom_final / len(y_real)\n",
    "\n",
    "    return sum_prom_final\n",
    "\n",
    "hola1 = error_cuadratico_medio(y_real, y_pred)\n",
    "print(hola1)"
   ]
  }
 ],
 "metadata": {
  "kernelspec": {
   "display_name": "Python 3",
   "language": "python",
   "name": "python3"
  },
  "language_info": {
   "codemirror_mode": {
    "name": "ipython",
    "version": 3
   },
   "file_extension": ".py",
   "mimetype": "text/x-python",
   "name": "python",
   "nbconvert_exporter": "python",
   "pygments_lexer": "ipython3",
   "version": "3.11.9"
  }
 },
 "nbformat": 4,
 "nbformat_minor": 5
}
